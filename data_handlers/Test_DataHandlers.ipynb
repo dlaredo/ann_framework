{
 "cells": [
  {
   "cell_type": "markdown",
   "metadata": {},
   "source": [
    "## Notebook for testing data hanlders\n",
    "\n",
    "First do the necessary imports"
   ]
  },
  {
   "cell_type": "code",
   "execution_count": 2,
   "metadata": {},
   "outputs": [
    {
     "name": "stderr",
     "output_type": "stream",
     "text": [
      "Using TensorFlow backend.\n"
     ]
    }
   ],
   "source": [
    "import datetime\n",
    "import logging\n",
    "import sys\n",
    "import numpy as np\n",
    "\n",
    "sys.path.append('/Users/davidlaredorazo/Documents/University_of_California/Research/Projects')\n",
    "\n",
    "\n",
    "from ann_framework.data_handlers.data_handler_CMAPSS import CMAPSSDataHandler\n",
    "from ann_framework.data_handlers.data_handler_MNIST import MNISTDataHandler\n",
    "from ann_framework.data_handlers.data_handler_CIFAR10 import CIFAR10DataHandler\n",
    "from ann_framework.data_handlers.data_handler_Oscillator import OscillatorDataHandler"
   ]
  },
  {
   "cell_type": "markdown",
   "metadata": {},
   "source": [
    "### CMAPSS Data Handler Test"
   ]
  },
  {
   "cell_type": "code",
   "execution_count": 4,
   "metadata": {},
   "outputs": [
    {
     "name": "stdout",
     "output_type": "stream",
     "text": [
      "Loading data for dataset 1 with window_size of 30, stride of 1 and maxRUL of 125. Cros-Validation ratio 0.2\n",
      "Loading data from file and computing dataframes\n",
      "Printing shapes\n",
      "\n",
      "Training data (X, y)\n",
      "(14077, 420)\n",
      "(14077, 1)\n",
      "Cross-Validation data (X, y)\n",
      "(20, 420)\n",
      "(20, 1)\n",
      "Testing data (X, y)\n",
      "(100, 420)\n",
      "(100, 1)\n",
      "Printing first 5 elements\n",
      "\n",
      "Training data (X, y)\n",
      "[[ 641.82   1589.7    1400.6    ...  390.       39.05     23.411 ]\n",
      " [ 642.15   1591.82   1403.14   ...  392.       38.94     23.3353]\n",
      " [ 642.35   1587.99   1404.2    ...  392.       39.02     23.4999]\n",
      " [ 642.35   1582.79   1401.87   ...  392.       38.83     23.3506]\n",
      " [ 642.37   1582.85   1406.22   ...  392.       38.81     23.3092]]\n",
      "[[125.]\n",
      " [125.]\n",
      " [125.]\n",
      " [125.]\n",
      " [125.]]\n",
      "Cross-Validation data (X, y)\n",
      "[[ 642.01   1586.11   1397.51   ...  391.       38.93     23.3583]\n",
      " [ 642.41   1584.72   1397.68   ...  392.       38.77     23.4928]\n",
      " [ 642.79   1583.23   1407.15   ...  393.       38.7      23.3114]\n",
      " [ 642.35   1584.13   1405.1    ...  395.       38.86     23.3358]\n",
      " [ 642.74   1594.35   1401.82   ...  392.       38.77     23.2909]]\n",
      "[[211.]\n",
      " [ 76.]\n",
      " [118.]\n",
      " [198.]\n",
      " [ 80.]]\n",
      "Testing data (X, y)\n",
      "[[ 641.71   1588.45   1395.42   ...  393.       38.81     23.3552]\n",
      " [ 642.72   1589.15   1400.69   ...  391.       38.81     23.2618]\n",
      " [ 642.86   1588.9    1408.72   ...  395.       38.93     23.274 ]\n",
      " [ 642.45   1593.88   1407.84   ...  395.       38.58     23.2581]\n",
      " [ 642.58   1595.41   1408.83   ...  394.       38.75     23.4117]]\n",
      "[[112.]\n",
      " [ 98.]\n",
      " [ 69.]\n",
      " [ 82.]\n",
      " [ 91.]]\n"
     ]
    }
   ],
   "source": [
    "#Selected as per CNN paper\n",
    "features = ['T2', 'T24', 'T30', 'T50', 'P2', 'P15', 'P30', 'Nf', 'Nc', 'epr', 'Ps30', 'phi', 'NRf', 'NRc', \n",
    "                     'BPR', 'farB', 'htBleed', 'Nf_dmd', 'PCNfR_dmd', 'W31', 'W32']\n",
    "selected_indices = np.array([2, 3, 4, 7, 8, 9, 11, 12, 13, 14, 15, 17, 20, 21])\n",
    "selected_features = list(features[i] for i in selected_indices-1)\n",
    "data_folder = '../../NASA_RUL_(CMAPS)/CMAPSSData'\n",
    "\n",
    "window_size = 30\n",
    "window_stride = 1\n",
    "max_rul = 125\n",
    "\n",
    "dHandler_cmaps = CMAPSSDataHandler(data_folder, 1, selected_features, max_rul, window_size, window_stride)\n",
    "dHandler_cmaps.data_scaler = None\n",
    "dHandler_cmaps.load_data(unroll=True, verbose=1, cross_validation_ratio=0.2)\n",
    "dHandler_cmaps.print_data()"
   ]
  },
  {
   "cell_type": "markdown",
   "metadata": {},
   "source": [
    "### MNIST Data Handler Test"
   ]
  },
  {
   "cell_type": "code",
   "execution_count": null,
   "metadata": {
    "collapsed": true
   },
   "outputs": [],
   "source": [
    "dHandler_mnist = MNISTDataHandler()\n",
    "dHandler_mnist.load_data(verbose=1, cross_validation_ratio=0.2)\n",
    "dHandler_mnist.print_data()\n",
    "\n",
    "example = dHandler_mnist.X_train[0]\n",
    "print(example.shape)\n",
    "print(example)"
   ]
  },
  {
   "cell_type": "markdown",
   "metadata": {},
   "source": [
    "### CIFAR10 DataHandler"
   ]
  },
  {
   "cell_type": "code",
   "execution_count": null,
   "metadata": {
    "collapsed": true
   },
   "outputs": [],
   "source": [
    "dHandler_cifar10 = CIFAR10DataHandler()\n",
    "dHandler_cifar10.load_data(verbose=1, cross_validation_ratio=0.2)\n",
    "dHandler_cifar10.print_data()\n",
    "\n",
    "example = dHandler_cifar10.X_train[0]\n",
    "print(example.shape)\n",
    "print(example)"
   ]
  },
  {
   "cell_type": "markdown",
   "metadata": {
    "collapsed": true
   },
   "source": [
    "### Oscillator DataHandler"
   ]
  },
  {
   "cell_type": "code",
   "execution_count": 2,
   "metadata": {},
   "outputs": [
    {
     "name": "stdout",
     "output_type": "stream",
     "text": [
      "Loading data. Cros-Validation ratio 0.2\n",
      "Printing shapes\n",
      "\n",
      "Training data (X, y)\n",
      "(7200, 2)\n",
      "(7200, 1)\n",
      "Cross-Validation data (X, y)\n",
      "(1800, 2)\n",
      "(1800, 1)\n",
      "Testing data (X, y)\n",
      "(1000, 2)\n",
      "(1000, 1)\n",
      "Printing first 5 elements\n",
      "\n",
      "Training data (X, y)\n",
      "[[ 2.97979798  4.09090909]\n",
      " [-3.58585859  1.16161616]\n",
      " [-0.05050505  4.6969697 ]\n",
      " [ 4.19191919  3.68686869]\n",
      " [ 2.07070707  4.6969697 ]]\n",
      "[[0.]\n",
      " [0.]\n",
      " [0.]\n",
      " [0.]\n",
      " [0.]]\n",
      "Cross-Validation data (X, y)\n",
      "[[-0.15151515 -0.65656566]\n",
      " [ 1.16161616  0.85858586]\n",
      " [-1.26262626 -3.48484848]\n",
      " [ 3.78787879 -0.85858586]\n",
      " [ 3.18181818 -4.49494949]]\n",
      "[[0.]\n",
      " [0.]\n",
      " [0.]\n",
      " [0.]\n",
      " [0.]]\n",
      "Testing data (X, y)\n",
      "[[-2.87878788  3.38383838]\n",
      " [-0.85858586 -1.96969697]\n",
      " [-1.86868687  3.18181818]\n",
      " [ 0.45454545 -1.36363636]\n",
      " [-4.7979798   4.6969697 ]]\n",
      "[[0.]\n",
      " [0.]\n",
      " [0.]\n",
      " [0.]\n",
      " [0.]]\n"
     ]
    },
    {
     "name": "stderr",
     "output_type": "stream",
     "text": [
      "/Users/davidlaredorazo/anaconda/envs/tensorflow/lib/python3.6/site-packages/sklearn/model_selection/_split.py:2010: FutureWarning: From version 0.21, test_size will always complement train_size unless both are specified.\n",
      "  FutureWarning)\n"
     ]
    }
   ],
   "source": [
    "dHandler_oscillator = OscillatorDataHandler()\n",
    "dHandler_oscillator.load_data(verbose=1, cross_validation_ratio=0.2, x=[0,0], delta_x=[5,5], n=[50,50])\n",
    "dHandler_oscillator.print_data()\n",
    "\n",
    "#example = dHandler_cifar10.X_train[0]\n",
    "#print(example.shape)\n",
    "#print(example)"
   ]
  },
  {
   "cell_type": "code",
   "execution_count": null,
   "metadata": {
    "collapsed": true
   },
   "outputs": [],
   "source": []
  }
 ],
 "metadata": {
  "kernelspec": {
   "display_name": "Python 3",
   "language": "python",
   "name": "python3"
  },
  "language_info": {
   "codemirror_mode": {
    "name": "ipython",
    "version": 3
   },
   "file_extension": ".py",
   "mimetype": "text/x-python",
   "name": "python",
   "nbconvert_exporter": "python",
   "pygments_lexer": "ipython3",
   "version": "3.6.6"
  }
 },
 "nbformat": 4,
 "nbformat_minor": 2
}
