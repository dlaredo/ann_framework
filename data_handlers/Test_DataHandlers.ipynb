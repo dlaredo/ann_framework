{
 "cells": [
  {
   "cell_type": "markdown",
   "metadata": {},
   "source": [
    "## Notebook for testing data hanlders\n",
    "\n",
    "First do the necessary imports"
   ]
  },
  {
   "cell_type": "code",
   "execution_count": 1,
   "metadata": {},
   "outputs": [
    {
     "name": "stderr",
     "output_type": "stream",
     "text": [
      "/Users/davidlaredorazo/anaconda/lib/python3.6/site-packages/h5py/__init__.py:34: FutureWarning: Conversion of the second argument of issubdtype from `float` to `np.floating` is deprecated. In future, it will be treated as `np.float64 == np.dtype(float).type`.\n",
      "  from ._conv import register_converters as _register_converters\n",
      "Using TensorFlow backend.\n"
     ]
    }
   ],
   "source": [
    "import datetime\n",
    "import logging\n",
    "import sys\n",
    "import numpy as np\n",
    "\n",
    "sys.path.append('/Users/davidlaredorazo/Documents/University_of_California/Research/Projects')\n",
    "#sys.path.append('/media/controlslab/DATA/Projects')\n",
    "\n",
    "\n",
    "from ann_framework.data_handlers.data_handler_CMAPSS import CMAPSSDataHandler\n",
    "from ann_framework.data_handlers.data_handler_MNIST import MNISTDataHandler\n",
    "from ann_framework.data_handlers.data_handler_CIFAR10 import CIFAR10DataHandler\n",
    "from ann_framework.data_handlers.data_handler_Oscillator import OscillatorDataHandler\n",
    "from ann_framework.data_handlers.data_handler_Oscillator import LinearPDEDataHandler\n",
    "from ann_framework.data_handlers.data_handler_NIH import NIHDataHandler"
   ]
  },
  {
   "cell_type": "markdown",
   "metadata": {},
   "source": [
    "### CMAPSS Data Handler Test"
   ]
  },
  {
   "cell_type": "code",
   "execution_count": null,
   "metadata": {
    "collapsed": true
   },
   "outputs": [],
   "source": [
    "#Selected as per CNN paper\n",
    "features = ['T2', 'T24', 'T30', 'T50', 'P2', 'P15', 'P30', 'Nf', 'Nc', 'epr', 'Ps30', 'phi', 'NRf', 'NRc', \n",
    "                     'BPR', 'farB', 'htBleed', 'Nf_dmd', 'PCNfR_dmd', 'W31', 'W32']\n",
    "selected_indices = np.array([2, 3, 4, 7, 8, 9, 11, 12, 13, 14, 15, 17, 20, 21])\n",
    "selected_features = list(features[i] for i in selected_indices-1)\n",
    "data_folder = '../../NASA_RUL_-CMAPS-/CMAPSSData'\n",
    "\n",
    "window_size = 30\n",
    "window_stride = 1\n",
    "max_rul = 125\n",
    "\n",
    "dHandler_cmaps = CMAPSSDataHandler(data_folder, 1, selected_features, max_rul, window_size, window_stride)\n",
    "dHandler_cmaps.data_scaler = None\n",
    "dHandler_cmaps.load_data(unroll=True, verbose=1, cross_validation_ratio=0.2)\n",
    "dHandler_cmaps.print_data()"
   ]
  },
  {
   "cell_type": "markdown",
   "metadata": {},
   "source": [
    "### MNIST Data Handler Test"
   ]
  },
  {
   "cell_type": "code",
   "execution_count": null,
   "metadata": {},
   "outputs": [],
   "source": [
    "dHandler_mnist = MNISTDataHandler()\n",
    "dHandler_mnist.load_data(verbose=1, cross_validation_ratio=0.2, unroll=False)\n",
    "dHandler_mnist.print_data()\n",
    "\n",
    "example = dHandler_mnist.X_train[0]\n",
    "print(example.shape)\n",
    "print(example)"
   ]
  },
  {
   "cell_type": "markdown",
   "metadata": {},
   "source": [
    "### CIFAR10 DataHandler"
   ]
  },
  {
   "cell_type": "code",
   "execution_count": null,
   "metadata": {
    "collapsed": true
   },
   "outputs": [],
   "source": [
    "dHandler_cifar10 = CIFAR10DataHandler()\n",
    "dHandler_cifar10.load_data(verbose=1, cross_validation_ratio=0.2)\n",
    "dHandler_cifar10.print_data()\n",
    "\n",
    "example = dHandler_cifar10.X_train[0]\n",
    "print(example.shape)\n",
    "print(example)"
   ]
  },
  {
   "cell_type": "markdown",
   "metadata": {
    "collapsed": true
   },
   "source": [
    "### Oscillator DataHandler"
   ]
  },
  {
   "cell_type": "code",
   "execution_count": 2,
   "metadata": {},
   "outputs": [
    {
     "name": "stdout",
     "output_type": "stream",
     "text": [
      "Loading data. Cros-Validation ratio 0.2\n",
      "[ 0.          0.05025126  0.10050251  0.15075377  0.20100503  0.25125628\n",
      "  0.30150754  0.35175879  0.40201005  0.45226131  0.50251256  0.55276382\n",
      "  0.60301508  0.65326633  0.70351759  0.75376884  0.8040201   0.85427136\n",
      "  0.90452261  0.95477387  1.00502513  1.05527638  1.10552764  1.15577889\n",
      "  1.20603015  1.25628141  1.30653266  1.35678392  1.40703518  1.45728643\n",
      "  1.50753769  1.55778894  1.6080402   1.65829146  1.70854271  1.75879397\n",
      "  1.80904523  1.85929648  1.90954774  1.95979899  2.01005025  2.06030151\n",
      "  2.11055276  2.16080402  2.21105528  2.26130653  2.31155779  2.36180905\n",
      "  2.4120603   2.46231156  2.51256281  2.56281407  2.61306533  2.66331658\n",
      "  2.71356784  2.7638191   2.81407035  2.86432161  2.91457286  2.96482412\n",
      "  3.01507538  3.06532663  3.11557789  3.16582915  3.2160804   3.26633166\n",
      "  3.31658291  3.36683417  3.41708543  3.46733668  3.51758794  3.5678392\n",
      "  3.61809045  3.66834171  3.71859296  3.76884422  3.81909548  3.86934673\n",
      "  3.91959799  3.96984925  4.0201005   4.07035176  4.12060302  4.17085427\n",
      "  4.22110553  4.27135678  4.32160804  4.3718593   4.42211055  4.47236181\n",
      "  4.52261307  4.57286432  4.62311558  4.67336683  4.72361809  4.77386935\n",
      "  4.8241206   4.87437186  4.92462312  4.97487437  5.02512563  5.07537688\n",
      "  5.12562814  5.1758794   5.22613065  5.27638191  5.32663317  5.37688442\n",
      "  5.42713568  5.47738693  5.52763819  5.57788945  5.6281407   5.67839196\n",
      "  5.72864322  5.77889447  5.82914573  5.87939698  5.92964824  5.9798995\n",
      "  6.03015075  6.08040201  6.13065327  6.18090452  6.23115578  6.28140704\n",
      "  6.33165829  6.38190955  6.4321608   6.48241206  6.53266332  6.58291457\n",
      "  6.63316583  6.68341709  6.73366834  6.7839196   6.83417085  6.88442211\n",
      "  6.93467337  6.98492462  7.03517588  7.08542714  7.13567839  7.18592965\n",
      "  7.2361809   7.28643216  7.33668342  7.38693467  7.43718593  7.48743719\n",
      "  7.53768844  7.5879397   7.63819095  7.68844221  7.73869347  7.78894472\n",
      "  7.83919598  7.88944724  7.93969849  7.98994975  8.04020101  8.09045226\n",
      "  8.14070352  8.19095477  8.24120603  8.29145729  8.34170854  8.3919598\n",
      "  8.44221106  8.49246231  8.54271357  8.59296482  8.64321608  8.69346734\n",
      "  8.74371859  8.79396985  8.84422111  8.89447236  8.94472362  8.99497487\n",
      "  9.04522613  9.09547739  9.14572864  9.1959799   9.24623116  9.29648241\n",
      "  9.34673367  9.39698492  9.44723618  9.49748744  9.54773869  9.59798995\n",
      "  9.64824121  9.69849246  9.74874372  9.79899497  9.84924623  9.89949749\n",
      "  9.94974874 10.        ]\n",
      "[0. 0. 0. 0. 0. 0. 0. 0. 0. 0. 0. 0. 0. 0. 0. 0. 0. 0. 0. 0. 0. 0. 0. 0.\n",
      " 0. 0. 0. 0. 0. 0. 0. 0. 0. 0. 0. 0. 0. 0. 0. 0. 0. 0. 0. 0. 0. 0. 0. 0.\n",
      " 0. 0. 0. 0. 0. 0. 0. 0. 0. 0. 0. 0. 0. 0. 0. 0. 0. 0. 0. 0. 0. 0. 0. 0.\n",
      " 0. 0. 0. 0. 0. 0. 0. 0. 0. 0. 0. 0. 0. 0. 0. 0. 0. 0. 0. 0. 0. 0. 0. 0.\n",
      " 0. 0. 0. 0. 0. 0. 0. 0. 0. 0. 0. 0. 0. 0. 0. 0. 0. 0. 0. 0. 0. 0. 0. 0.\n",
      " 0. 0. 0. 0. 0. 0. 0. 0. 0. 0. 0. 0. 0. 0. 0. 0. 0. 0. 0. 0. 0. 0. 0. 0.\n",
      " 0. 0. 0. 0. 0. 0. 0. 0. 0. 0. 0. 0. 0. 0. 0. 0. 0. 0. 0. 0. 0. 0. 0. 0.\n",
      " 0. 0. 0. 0. 0. 0. 0. 0. 0. 0. 0. 0. 0. 0. 0. 0. 0. 0. 0. 0. 0. 0. 0. 0.\n",
      " 0. 0. 0. 0. 0. 0. 0. 0.]\n",
      "Printing shapes\n",
      "\n",
      "Training data (X, y)\n",
      "(144,)\n",
      "(144,)\n",
      "Cross-Validation data (X, y)\n",
      "(36,)\n",
      "(36,)\n",
      "Testing data (X, y)\n",
      "(20,)\n",
      "(20,)\n",
      "Printing first 5 elements\n",
      "\n",
      "Training data (X, y)\n",
      "[6.68341709 8.54271357 2.21105528 3.5678392  4.12060302]\n",
      "[0. 0. 0. 0. 0.]\n",
      "Cross-Validation data (X, y)\n",
      "[2.11055276 2.61306533 8.3919598  9.74874372 8.59296482]\n",
      "[0. 0. 0. 0. 0.]\n",
      "Testing data (X, y)\n",
      "[5.77889447 2.66331658 3.76884422 1.40703518 0.95477387]\n",
      "[0. 0. 0. 0. 0.]\n"
     ]
    },
    {
     "name": "stderr",
     "output_type": "stream",
     "text": [
      "/Users/davidlaredorazo/anaconda/lib/python3.6/site-packages/sklearn/model_selection/_split.py:2026: FutureWarning: From version 0.21, test_size will always complement train_size unless both are specified.\n",
      "  FutureWarning)\n"
     ]
    }
   ],
   "source": [
    "dHandler_oscillator = LinearPDEDataHandler()\n",
    "dHandler_oscillator.load_data(verbose=1, cross_validation_ratio=0.2, x=0, boundaries=[0,10], n=100)\n",
    "dHandler_oscillator.print_data()\n",
    "\n",
    "#example = dHandler_cifar10.X_train[0]\n",
    "#print(example.shape)\n",
    "#print(example)"
   ]
  },
  {
   "cell_type": "markdown",
   "metadata": {},
   "source": [
    "### NIH DataHandler"
   ]
  },
  {
   "cell_type": "code",
   "execution_count": null,
   "metadata": {
    "collapsed": true
   },
   "outputs": [],
   "source": [
    "# import os\n",
    "# print(os.listdir(\"../../NIHdata/data\"))\n",
    "\n",
    "data_file = '../../NIHdata/data/Data_Entry_2017.csv'\n",
    "data_folder = '../../NIHdata/data/'\n",
    "dHandler_NIH = NIHDataHandler(data_file, data_folder)\n",
    "dHandler_NIH.load_data(verbose = 0, cross_validation_ratio = 0.20, prune_threshold=1000, number_samples=5000)\n",
    "# dHandler_NIH.print_data()\n",
    "dHandler_NIH.show_img()"
   ]
  },
  {
   "cell_type": "code",
   "execution_count": null,
   "metadata": {
    "collapsed": true
   },
   "outputs": [],
   "source": []
  }
 ],
 "metadata": {
  "kernelspec": {
   "display_name": "Python 3",
   "language": "python",
   "name": "python3"
  },
  "language_info": {
   "codemirror_mode": {
    "name": "ipython",
    "version": 3
   },
   "file_extension": ".py",
   "mimetype": "text/x-python",
   "name": "python",
   "nbconvert_exporter": "python",
   "pygments_lexer": "ipython3",
   "version": "3.6.1"
  }
 },
 "nbformat": 4,
 "nbformat_minor": 2
}
