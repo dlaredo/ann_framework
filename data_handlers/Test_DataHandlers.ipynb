{
 "cells": [
  {
   "cell_type": "markdown",
   "metadata": {},
   "source": [
    "## Notebook for testing data hanlders\n",
    "\n",
    "First do the necessary imports"
   ]
  },
  {
   "cell_type": "code",
   "execution_count": 1,
   "metadata": {},
   "outputs": [
    {
     "name": "stderr",
     "output_type": "stream",
     "text": [
      "Using TensorFlow backend.\n"
     ]
    }
   ],
   "source": [
    "import datetime\n",
    "import logging\n",
    "import sys\n",
    "import numpy as np\n",
    "\n",
    "sys.path.append('/Users/davidlaredorazo/Documents/University_of_California/Research/Projects')\n",
    "#sys.path.append('/media/controlslab/DATA/Projects')\n",
    "\n",
    "\n",
    "from ann_framework.data_handlers.data_handler_CMAPSS import CMAPSSDataHandler\n",
    "from ann_framework.data_handlers.data_handler_MNIST import MNISTDataHandler\n",
    "from ann_framework.data_handlers.data_handler_CIFAR10 import CIFAR10DataHandler\n",
    "from ann_framework.data_handlers.data_handler_Oscillator import OscillatorDataHandler\n",
    "from ann_framework.data_handlers.data_handler_NIH import NIHDataHandler"
   ]
  },
  {
   "cell_type": "markdown",
   "metadata": {},
   "source": [
    "### CMAPSS Data Handler Test"
   ]
  },
  {
   "cell_type": "code",
   "execution_count": null,
   "metadata": {},
   "outputs": [],
   "source": [
    "#Selected as per CNN paper\n",
    "features = ['T2', 'T24', 'T30', 'T50', 'P2', 'P15', 'P30', 'Nf', 'Nc', 'epr', 'Ps30', 'phi', 'NRf', 'NRc', \n",
    "                     'BPR', 'farB', 'htBleed', 'Nf_dmd', 'PCNfR_dmd', 'W31', 'W32']\n",
    "selected_indices = np.array([2, 3, 4, 7, 8, 9, 11, 12, 13, 14, 15, 17, 20, 21])\n",
    "selected_features = list(features[i] for i in selected_indices-1)\n",
    "data_folder = '../../NASA_RUL_-CMAPS-/CMAPSSData'\n",
    "\n",
    "window_size = 30\n",
    "window_stride = 1\n",
    "max_rul = 125\n",
    "\n",
    "dHandler_cmaps = CMAPSSDataHandler(data_folder, 1, selected_features, max_rul, window_size, window_stride)\n",
    "dHandler_cmaps.data_scaler = None\n",
    "dHandler_cmaps.load_data(unroll=True, verbose=1, cross_validation_ratio=0.2)\n",
    "dHandler_cmaps.print_data()"
   ]
  },
  {
   "cell_type": "markdown",
   "metadata": {},
   "source": [
    "### MNIST Data Handler Test"
   ]
  },
  {
   "cell_type": "code",
   "execution_count": null,
   "metadata": {},
   "outputs": [],
   "source": [
    "dHandler_mnist = MNISTDataHandler()\n",
    "dHandler_mnist.load_data(verbose=1, cross_validation_ratio=0.2)\n",
    "dHandler_mnist.print_data()\n",
    "\n",
    "example = dHandler_mnist.X_train[0]\n",
    "print(example.shape)\n",
    "print(example)"
   ]
  },
  {
   "cell_type": "markdown",
   "metadata": {},
   "source": [
    "### CIFAR10 DataHandler"
   ]
  },
  {
   "cell_type": "code",
   "execution_count": null,
   "metadata": {
    "collapsed": true
   },
   "outputs": [],
   "source": [
    "dHandler_cifar10 = CIFAR10DataHandler()\n",
    "dHandler_cifar10.load_data(verbose=1, cross_validation_ratio=0.2)\n",
    "dHandler_cifar10.print_data()\n",
    "\n",
    "example = dHandler_cifar10.X_train[0]\n",
    "print(example.shape)\n",
    "print(example)"
   ]
  },
  {
   "cell_type": "markdown",
   "metadata": {
    "collapsed": true
   },
   "source": [
    "### Oscillator DataHandler"
   ]
  },
  {
   "cell_type": "code",
   "execution_count": 3,
   "metadata": {},
   "outputs": [
    {
     "name": "stdout",
     "output_type": "stream",
     "text": [
      "Loading data. Cros-Validation ratio 0.2\n",
      "[[-2.         -2.         -2.         -2.         -2.         -2.        ]\n",
      " [-0.66666667 -0.66666667 -0.66666667 -0.66666667 -0.66666667 -0.66666667]\n",
      " [ 0.66666667  0.66666667  0.66666667  0.66666667  0.66666667  0.66666667]\n",
      " [ 2.          2.          2.          2.          2.          2.        ]]\n",
      "[[-7.  -4.2 -1.4  1.4  4.2  7. ]\n",
      " [-7.  -4.2 -1.4  1.4  4.2  7. ]\n",
      " [-7.  -4.2 -1.4  1.4  4.2  7. ]\n",
      " [-7.  -4.2 -1.4  1.4  4.2  7. ]]\n",
      "[[-2.         -7.        ]\n",
      " [-2.         -4.2       ]\n",
      " [-2.         -1.4       ]\n",
      " [-2.          1.4       ]\n",
      " [-2.          4.2       ]\n",
      " [-2.          7.        ]\n",
      " [-0.66666667 -7.        ]\n",
      " [-0.66666667 -4.2       ]\n",
      " [-0.66666667 -1.4       ]\n",
      " [-0.66666667  1.4       ]\n",
      " [-0.66666667  4.2       ]\n",
      " [-0.66666667  7.        ]\n",
      " [ 0.66666667 -7.        ]\n",
      " [ 0.66666667 -4.2       ]\n",
      " [ 0.66666667 -1.4       ]\n",
      " [ 0.66666667  1.4       ]\n",
      " [ 0.66666667  4.2       ]\n",
      " [ 0.66666667  7.        ]\n",
      " [ 2.         -7.        ]\n",
      " [ 2.         -4.2       ]\n",
      " [ 2.         -1.4       ]\n",
      " [ 2.          1.4       ]\n",
      " [ 2.          4.2       ]\n",
      " [ 2.          7.        ]]\n",
      "Printing shapes\n",
      "\n",
      "Training data (X, y)\n",
      "(16, 2)\n",
      "(16, 1)\n",
      "Cross-Validation data (X, y)\n",
      "(5, 2)\n",
      "(5, 1)\n",
      "Testing data (X, y)\n",
      "(3, 2)\n",
      "(3, 1)\n",
      "Printing first 5 elements\n",
      "\n",
      "Training data (X, y)\n",
      "[[ 0.66666667  1.4       ]\n",
      " [-0.66666667 -1.4       ]\n",
      " [ 0.66666667  7.        ]\n",
      " [ 0.66666667  4.2       ]\n",
      " [-2.         -7.        ]]\n",
      "[[0.]\n",
      " [0.]\n",
      " [0.]\n",
      " [0.]\n",
      " [0.]]\n",
      "Cross-Validation data (X, y)\n",
      "[[-0.66666667 -7.        ]\n",
      " [-2.          7.        ]\n",
      " [ 2.         -4.2       ]\n",
      " [-2.         -1.4       ]\n",
      " [-2.          1.4       ]]\n",
      "[[0.]\n",
      " [0.]\n",
      " [0.]\n",
      " [0.]\n",
      " [0.]]\n",
      "Testing data (X, y)\n",
      "[[ 2.         -1.4       ]\n",
      " [ 2.          7.        ]\n",
      " [ 0.66666667 -1.4       ]]\n",
      "[[0.]\n",
      " [0.]\n",
      " [0.]]\n"
     ]
    },
    {
     "name": "stderr",
     "output_type": "stream",
     "text": [
      "/Users/davidlaredorazo/anaconda/envs/tensorflow/lib/python3.6/site-packages/sklearn/model_selection/_split.py:2010: FutureWarning: From version 0.21, test_size will always complement train_size unless both are specified.\n",
      "  FutureWarning)\n"
     ]
    }
   ],
   "source": [
    "dHandler_oscillator = OscillatorDataHandler()\n",
    "dHandler_oscillator.load_data(verbose=1, cross_validation_ratio=0.2, x=[0,0], boundaries=[2,7], n=[2,3])\n",
    "dHandler_oscillator.print_data()\n",
    "\n",
    "#example = dHandler_cifar10.X_train[0]\n",
    "#print(example.shape)\n",
    "#print(example)"
   ]
  },
  {
   "cell_type": "markdown",
   "metadata": {},
   "source": [
    "# NIH DataHandler"
   ]
  },
  {
   "cell_type": "code",
   "execution_count": null,
   "metadata": {},
   "outputs": [],
   "source": [
    "# import os\n",
    "# print(os.listdir(\"../../NIHdata/data\"))\n",
    "\n",
    "data_file = '../../NIHdata/data/Data_Entry_2017.csv'\n",
    "dHandler_NIH = NIHDataHandler(data_file)\n",
    "dHandler_NIH.load_data(verbose = 0, cross_validation_ratio = 0.25, normalize = 1)\n",
    "dHandler_NIH.print_data()"
   ]
  },
  {
   "cell_type": "code",
   "execution_count": null,
   "metadata": {
    "collapsed": true
   },
   "outputs": [],
   "source": []
  }
 ],
 "metadata": {
  "kernelspec": {
   "display_name": "Python 3",
   "language": "python",
   "name": "python3"
  },
  "language_info": {
   "codemirror_mode": {
    "name": "ipython",
    "version": 3
   },
   "file_extension": ".py",
   "mimetype": "text/x-python",
   "name": "python",
   "nbconvert_exporter": "python",
   "pygments_lexer": "ipython3",
   "version": "3.6.6"
  }
 },
 "nbformat": 4,
 "nbformat_minor": 2
}
