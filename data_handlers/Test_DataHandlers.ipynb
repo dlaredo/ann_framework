{
 "cells": [
  {
   "cell_type": "markdown",
   "metadata": {},
   "source": [
    "## Notebook for testing data hanlders\n",
    "\n",
    "First do the necessary imports"
   ]
  },
  {
   "cell_type": "code",
   "execution_count": 1,
   "metadata": {},
   "outputs": [
    {
     "name": "stderr",
     "output_type": "stream",
     "text": [
      "Using TensorFlow backend.\n"
     ]
    }
   ],
   "source": [
    "import datetime\n",
    "import logging\n",
    "import sys\n",
    "import numpy as np\n",
    "\n",
    "sys.path.append('/Users/davidlaredorazo/Documents/University_of_California/Research/Projects')\n",
    "#sys.path.append('/media/controlslab/DATA/Projects')\n",
    "\n",
    "\n",
    "from ann_framework.data_handlers.data_handler_CMAPSS import CMAPSSDataHandler\n",
    "from ann_framework.data_handlers.data_handler_MNIST import MNISTDataHandler\n",
    "from ann_framework.data_handlers.data_handler_CIFAR10 import CIFAR10DataHandler\n",
    "from ann_framework.data_handlers.data_handler_Grid import GridDataHandler\n",
    "from ann_framework.data_handlers.data_handler_NIH import NIHDataHandler"
   ]
  },
  {
   "cell_type": "markdown",
   "metadata": {},
   "source": [
    "### CMAPSS Data Handler Test"
   ]
  },
  {
   "cell_type": "code",
   "execution_count": null,
   "metadata": {},
   "outputs": [],
   "source": [
    "#Selected as per CNN paper\n",
    "features = ['T2', 'T24', 'T30', 'T50', 'P2', 'P15', 'P30', 'Nf', 'Nc', 'epr', 'Ps30', 'phi', 'NRf', 'NRc', \n",
    "                     'BPR', 'farB', 'htBleed', 'Nf_dmd', 'PCNfR_dmd', 'W31', 'W32']\n",
    "selected_indices = np.array([2, 3, 4, 7, 8, 9, 11, 12, 13, 14, 15, 17, 20, 21])\n",
    "selected_features = list(features[i] for i in selected_indices-1)\n",
    "data_folder = '../../NASA_RUL_-CMAPS-/CMAPSSData'\n",
    "\n",
    "window_size = 30\n",
    "window_stride = 1\n",
    "max_rul = 125\n",
    "\n",
    "dHandler_cmaps = CMAPSSDataHandler(data_folder, 1, selected_features, max_rul, window_size, window_stride)\n",
    "dHandler_cmaps.data_scaler = None\n",
    "dHandler_cmaps.load_data(unroll=True, verbose=1, cross_validation_ratio=0.2)\n",
    "dHandler_cmaps.print_data()"
   ]
  },
  {
   "cell_type": "markdown",
   "metadata": {},
   "source": [
    "### MNIST Data Handler Test"
   ]
  },
  {
   "cell_type": "code",
   "execution_count": null,
   "metadata": {},
   "outputs": [],
   "source": [
    "dHandler_mnist = MNISTDataHandler()\n",
    "dHandler_mnist.load_data(verbose=1, cross_validation_ratio=0.2, unroll=False)\n",
    "dHandler_mnist.print_data()\n",
    "\n",
    "example = dHandler_mnist.X_train[0]\n",
    "print(example.shape)\n",
    "print(example)"
   ]
  },
  {
   "cell_type": "markdown",
   "metadata": {},
   "source": [
    "### CIFAR10 DataHandler"
   ]
  },
  {
   "cell_type": "code",
   "execution_count": null,
   "metadata": {},
   "outputs": [],
   "source": [
    "dHandler_cifar10 = CIFAR10DataHandler()\n",
    "dHandler_cifar10.load_data(verbose=1, cross_validation_ratio=0.2)\n",
    "dHandler_cifar10.print_data()\n",
    "\n",
    "example = dHandler_cifar10.X_train[0]\n",
    "print(example.shape)\n",
    "print(example)"
   ]
  },
  {
   "cell_type": "markdown",
   "metadata": {
    "collapsed": true
   },
   "source": [
    "### Oscillator DataHandler"
   ]
  },
  {
   "cell_type": "code",
   "execution_count": 2,
   "metadata": {},
   "outputs": [
    {
     "name": "stdout",
     "output_type": "stream",
     "text": [
      "[[0, 1], [0, 1], [0, 1]]\n",
      "[5, 5, 5]\n",
      "Loading data. Cros-Validation ratio 0.2\n",
      "Printing shapes\n",
      "\n",
      "Training data (X, y)\n",
      "(89, 3)\n",
      "(89, 1)\n",
      "Cross-Validation data (X, y)\n",
      "(23, 3)\n",
      "(23, 1)\n",
      "Testing data (X, y)\n",
      "(13, 3)\n",
      "(13, 1)\n",
      "Printing first 5 elements\n",
      "\n",
      "Training data (X, y)\n",
      "[[0.25 0.   0.5 ]\n",
      " [1.   0.25 0.75]\n",
      " [0.25 0.5  0.25]\n",
      " [0.5  0.25 0.5 ]\n",
      " [0.25 0.75 1.  ]]\n",
      "[[0.]\n",
      " [0.]\n",
      " [0.]\n",
      " [0.]\n",
      " [0.]]\n",
      "Cross-Validation data (X, y)\n",
      "[[0.   1.   0.  ]\n",
      " [0.   0.25 0.  ]\n",
      " [1.   0.   1.  ]\n",
      " [0.   1.   1.  ]\n",
      " [0.5  0.75 0.5 ]]\n",
      "[[0.]\n",
      " [0.]\n",
      " [0.]\n",
      " [0.]\n",
      " [0.]]\n",
      "Testing data (X, y)\n",
      "[[0.25 1.   0.  ]\n",
      " [0.25 0.   0.  ]\n",
      " [1.   0.75 0.5 ]\n",
      " [0.   0.5  1.  ]\n",
      " [0.25 0.   0.75]]\n",
      "[[0.]\n",
      " [0.]\n",
      " [0.]\n",
      " [0.]\n",
      " [0.]]\n"
     ]
    },
    {
     "name": "stderr",
     "output_type": "stream",
     "text": [
      "/Users/davidlaredorazo/anaconda/lib/python3.6/site-packages/sklearn/model_selection/_split.py:2179: FutureWarning: From version 0.21, test_size will always complement train_size unless both are specified.\n",
      "  FutureWarning)\n"
     ]
    }
   ],
   "source": [
    "#1-D problem\n",
    "\n",
    "\n",
    "dHandler_grid = GridDataHandler()\n",
    "dHandler_grid.load_data(verbose=1, cross_validation_ratio=0.2, boundaries=[[0,1], [0,1], [0,1]], n=[5, 5, 5])\n",
    "dHandler_grid.print_data()\n",
    "\n",
    "#example = dHandler_cifar10.X_train[0]\n",
    "#print(example.shape)\n",
    "#print(example)"
   ]
  },
  {
   "cell_type": "markdown",
   "metadata": {},
   "source": [
    "### NIH DataHandler"
   ]
  },
  {
   "cell_type": "code",
   "execution_count": null,
   "metadata": {},
   "outputs": [],
   "source": [
    "# import os\n",
    "# print(os.listdir(\"../../NIHdata/data\"))\n",
    "\n",
    "data_file = '../../NIHdata/data/Data_Entry_2017.csv'\n",
    "data_folder = '../../NIHdata/data/'\n",
    "dHandler_NIH = NIHDataHandler(data_file, data_folder, multi_labels=False)\n",
    "dHandler_NIH.load_data(verbose = 0, cross_validation_ratio = 0.20, prune_threshold=1000, number_samples=5000)\n",
    "# dHandler_NIH.print_data()\n",
    "#dHandler_NIH.show_img()"
   ]
  },
  {
   "cell_type": "code",
   "execution_count": null,
   "metadata": {},
   "outputs": [],
   "source": [
    "a = np.random.random([10, ])\n",
    "b = np.random.random([10, ])\n",
    "\n",
    "np.sum(a-b)"
   ]
  },
  {
   "cell_type": "code",
   "execution_count": null,
   "metadata": {},
   "outputs": [],
   "source": [
    "a = np.random.random([10, ])\n",
    "print(a)\n",
    "a[[1,4,5,6]]\n",
    "a[[]] = 0\n",
    "print(a)"
   ]
  },
  {
   "cell_type": "code",
   "execution_count": null,
   "metadata": {},
   "outputs": [],
   "source": []
  }
 ],
 "metadata": {
  "kernelspec": {
   "display_name": "Python 3",
   "language": "python",
   "name": "python3"
  },
  "language_info": {
   "codemirror_mode": {
    "name": "ipython",
    "version": 3
   },
   "file_extension": ".py",
   "mimetype": "text/x-python",
   "name": "python",
   "nbconvert_exporter": "python",
   "pygments_lexer": "ipython3",
   "version": "3.6.8"
  }
 },
 "nbformat": 4,
 "nbformat_minor": 2
}
